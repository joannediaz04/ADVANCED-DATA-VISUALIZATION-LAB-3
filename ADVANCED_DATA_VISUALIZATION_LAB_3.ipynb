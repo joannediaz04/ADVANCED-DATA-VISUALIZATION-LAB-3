{
  "nbformat": 4,
  "nbformat_minor": 0,
  "metadata": {
    "colab": {
      "provenance": [],
      "authorship_tag": "ABX9TyOhR663VDnpW4S5sgea3FIN",
      "include_colab_link": true
    },
    "kernelspec": {
      "name": "python3",
      "display_name": "Python 3"
    },
    "language_info": {
      "name": "python"
    }
  },
  "cells": [
    {
      "cell_type": "markdown",
      "metadata": {
        "id": "view-in-github",
        "colab_type": "text"
      },
      "source": [
        "<a href=\"https://colab.research.google.com/github/joannediaz04/ADVANCED-DATA-VISUALIZATION-LAB-3/blob/main/ADVANCED_DATA_VISUALIZATION_LAB_3.ipynb\" target=\"_parent\"><img src=\"https://colab.research.google.com/assets/colab-badge.svg\" alt=\"Open In Colab\"/></a>"
      ]
    },
    {
      "cell_type": "code",
      "execution_count": 1,
      "metadata": {
        "colab": {
          "base_uri": "https://localhost:8080/"
        },
        "id": "XGcLUqR-yl6i",
        "outputId": "f8bf94bb-4da0-41e5-c3cc-9415c901da26"
      },
      "outputs": [
        {
          "output_type": "stream",
          "name": "stdout",
          "text": [
            "2\n"
          ]
        }
      ],
      "source": [
        "# add two integers together\n",
        "Add = 1 + 1\n",
        "print(Add)"
      ]
    },
    {
      "cell_type": "code",
      "source": [
        "#subtract two integers together\n",
        "Subtract = 2-1\n",
        "print(Subtract)"
      ],
      "metadata": {
        "colab": {
          "base_uri": "https://localhost:8080/"
        },
        "id": "eUBgush9zIii",
        "outputId": "3f3ae5c2-0dc4-4f89-cf8f-e8412e53e2cb"
      },
      "execution_count": 2,
      "outputs": [
        {
          "output_type": "stream",
          "name": "stdout",
          "text": [
            "1\n"
          ]
        }
      ]
    },
    {
      "cell_type": "code",
      "source": [
        "# add two integers together\n",
        "Divide = 129/2\n",
        "print(Divide)"
      ],
      "metadata": {
        "colab": {
          "base_uri": "https://localhost:8080/"
        },
        "id": "J38l_h1mzb_U",
        "outputId": "0a1f0cd7-7d8b-4880-bf40-3049a4167832"
      },
      "execution_count": 3,
      "outputs": [
        {
          "output_type": "stream",
          "name": "stdout",
          "text": [
            "64.5\n"
          ]
        }
      ]
    },
    {
      "cell_type": "code",
      "source": [
        "# This operator raises the number to its left to the power of the number to its right\n",
        "Exponent = 2**4\n",
        "print(Exponent)"
      ],
      "metadata": {
        "colab": {
          "base_uri": "https://localhost:8080/"
        },
        "id": "xtXlU-UUzw6S",
        "outputId": "8a21b9e3-ece3-459e-8b36-aaa8686e7abc"
      },
      "execution_count": 4,
      "outputs": [
        {
          "output_type": "stream",
          "name": "stdout",
          "text": [
            "16\n"
          ]
        }
      ]
    },
    {
      "cell_type": "code",
      "source": [
        "# Multiplication\n",
        "Multiply = 2*3\n",
        "print(Multiply)"
      ],
      "metadata": {
        "colab": {
          "base_uri": "https://localhost:8080/"
        },
        "id": "GaikERnS0X6P",
        "outputId": "8339cdce-4bcc-4ffc-a63f-74bc1812b3b9"
      },
      "execution_count": 6,
      "outputs": [
        {
          "output_type": "stream",
          "name": "stdout",
          "text": [
            "6\n"
          ]
        }
      ]
    },
    {
      "cell_type": "code",
      "source": [
        "# the modulo (%) operator returns the remainder of the division of the number to the left by the # number to the right\n",
        "Remainder = 20%3\n",
        "print(Remainder)"
      ],
      "metadata": {
        "colab": {
          "base_uri": "https://localhost:8080/"
        },
        "id": "4vYZuyfq0iRT",
        "outputId": "801bb829-fe46-4dca-df4f-8a701867d4ea"
      },
      "execution_count": 7,
      "outputs": [
        {
          "output_type": "stream",
          "name": "stdout",
          "text": [
            "2\n"
          ]
        }
      ]
    },
    {
      "cell_type": "code",
      "source": [
        "a = 10\n",
        "b = 10\n",
        "if a==b:\n",
        "    print(\"a equals b\")"
      ],
      "metadata": {
        "colab": {
          "base_uri": "https://localhost:8080/"
        },
        "id": "t5KO0ZdE1aFq",
        "outputId": "cbe37b2a-b5a8-4955-f8b8-b60be29e6c0b"
      },
      "execution_count": 8,
      "outputs": [
        {
          "output_type": "stream",
          "name": "stdout",
          "text": [
            "a equals b\n"
          ]
        }
      ]
    },
    {
      "cell_type": "code",
      "source": [
        "a = 10\n",
        "b = 8\n",
        "if a < b:\n",
        "   print(\"a is less than b\")"
      ],
      "metadata": {
        "id": "Gybcbv4h1wiD"
      },
      "execution_count": 14,
      "outputs": []
    },
    {
      "cell_type": "code",
      "source": [
        "a = 12\n",
        "b = 12\n",
        "if a > b:\n",
        "   print(\"a is greater than b\")\n",
        "else:\n",
        "   print(\"a is not greater than b\")"
      ],
      "metadata": {
        "colab": {
          "base_uri": "https://localhost:8080/"
        },
        "id": "7R5GsBwk2KYt",
        "outputId": "98a9043e-bd68-4b6c-9f8c-bcbfdb74f048"
      },
      "execution_count": 15,
      "outputs": [
        {
          "output_type": "stream",
          "name": "stdout",
          "text": [
            "a is not greater than b\n"
          ]
        }
      ]
    },
    {
      "cell_type": "code",
      "source": [
        "a = 13\n",
        "b = 12\n",
        "if a > b:\n",
        "   print(\"a is greater than b\")\n",
        "elif a == b:\n",
        "   print(\"a is equal to b\")\n",
        "else:\n",
        "   print(\"a is less than b\")\n"
      ],
      "metadata": {
        "colab": {
          "base_uri": "https://localhost:8080/"
        },
        "id": "6sXAhzpZ2lmS",
        "outputId": "903858e2-daf9-4374-b15d-5b671f85dddb"
      },
      "execution_count": 17,
      "outputs": [
        {
          "output_type": "stream",
          "name": "stdout",
          "text": [
            "a is greater than b\n"
          ]
        }
      ]
    },
    {
      "cell_type": "code",
      "source": [
        "a = 10\n",
        "b = 10\n",
        "if a != b:\n",
        "    print(\"a does not equal b\")"
      ],
      "metadata": {
        "id": "zrzNU-7O3Vy9"
      },
      "execution_count": 19,
      "outputs": []
    },
    {
      "cell_type": "code",
      "source": [
        "(1 + 1) == (True + True)"
      ],
      "metadata": {
        "colab": {
          "base_uri": "https://localhost:8080/"
        },
        "id": "d4R5Gvjd3q_X",
        "outputId": "27ebfd9e-16eb-4ed0-b63b-f5c10f9d1e26"
      },
      "execution_count": 20,
      "outputs": [
        {
          "output_type": "execute_result",
          "data": {
            "text/plain": [
              "True"
            ]
          },
          "metadata": {},
          "execution_count": 20
        }
      ]
    },
    {
      "cell_type": "code",
      "source": [
        "num=3;\n",
        "if num==3:\n",
        "    print(num)"
      ],
      "metadata": {
        "colab": {
          "base_uri": "https://localhost:8080/"
        },
        "id": "pPf7i_2f37Xj",
        "outputId": "4f4c08db-6838-40f3-a1a4-07fef1260b22"
      },
      "execution_count": 21,
      "outputs": [
        {
          "output_type": "stream",
          "name": "stdout",
          "text": [
            "3\n"
          ]
        }
      ]
    },
    {
      "cell_type": "code",
      "source": [
        "num = 3\n",
        "if num > 10:\n",
        "  print(num)"
      ],
      "metadata": {
        "id": "tfnkdIMd4qLv"
      },
      "execution_count": 24,
      "outputs": []
    },
    {
      "cell_type": "code",
      "source": [
        "num = 3\n",
        "if num %3 == 0:\n",
        "    print(\"Fizz\")"
      ],
      "metadata": {
        "colab": {
          "base_uri": "https://localhost:8080/"
        },
        "id": "60yrJQGe4Nox",
        "outputId": "d69a5656-baa2-4380-eb40-b8435284494b"
      },
      "execution_count": 23,
      "outputs": [
        {
          "output_type": "stream",
          "name": "stdout",
          "text": [
            "Fizz\n"
          ]
        }
      ]
    },
    {
      "cell_type": "code",
      "source": [
        "num = 10\n",
        "if num % 5 == 0:\n",
        "  print(\"Buzz\")"
      ],
      "metadata": {
        "colab": {
          "base_uri": "https://localhost:8080/"
        },
        "id": "dI3J4CFv44SI",
        "outputId": "afef6a2c-8873-40f8-f19c-652a27ee9d0c"
      },
      "execution_count": 25,
      "outputs": [
        {
          "output_type": "stream",
          "name": "stdout",
          "text": [
            "Buzz\n"
          ]
        }
      ]
    },
    {
      "cell_type": "code",
      "source": [
        "num = 4\n",
        "print(num > 0 and num < 15)"
      ],
      "metadata": {
        "colab": {
          "base_uri": "https://localhost:8080/"
        },
        "id": "5L5LB3GD5JKo",
        "outputId": "9b0ea1ef-757c-42f4-f2e0-b340ecf0f43d"
      },
      "execution_count": 26,
      "outputs": [
        {
          "output_type": "stream",
          "name": "stdout",
          "text": [
            "True\n"
          ]
        }
      ]
    },
    {
      "cell_type": "code",
      "source": [
        "if num > 0 and num < 15:\n",
        " print(num)"
      ],
      "metadata": {
        "colab": {
          "base_uri": "https://localhost:8080/"
        },
        "id": "emZoz7sf5WG9",
        "outputId": "35ac7d74-d7f0-48f6-a45b-15a4b4f974c8"
      },
      "execution_count": 29,
      "outputs": [
        {
          "output_type": "stream",
          "name": "stdout",
          "text": [
            "4\n"
          ]
        }
      ]
    },
    {
      "cell_type": "code",
      "source": [
        "num = 4\n",
        "num > 0 or num > 15"
      ],
      "metadata": {
        "colab": {
          "base_uri": "https://localhost:8080/"
        },
        "id": "IOcqNUWj4c8n",
        "outputId": "8b30149f-2c7c-4843-ca18-7503bb8af18a"
      },
      "execution_count": 30,
      "outputs": [
        {
          "output_type": "execute_result",
          "data": {
            "text/plain": [
              "True"
            ]
          },
          "metadata": {},
          "execution_count": 30
        }
      ]
    },
    {
      "cell_type": "code",
      "source": [
        "num = 4 \n",
        "print(num > 0 and num < 15)"
      ],
      "metadata": {
        "colab": {
          "base_uri": "https://localhost:8080/"
        },
        "id": "vZzo8D0f57A_",
        "outputId": "cc476091-02db-4377-b576-3c93dd9aeb35"
      },
      "execution_count": 33,
      "outputs": [
        {
          "output_type": "stream",
          "name": "stdout",
          "text": [
            "True\n"
          ]
        }
      ]
    }
  ]
}